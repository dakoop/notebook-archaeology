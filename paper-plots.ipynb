{
 "cells": [
  {
   "cell_type": "markdown",
   "id": "d99de520-7b9a-45f9-b3e0-d029019fc458",
   "metadata": {},
   "source": [
    "### Notebook Gaps vs. Session Repeats"
   ]
  },
  {
   "cell_type": "code",
   "execution_count": 1,
   "id": "modified-voice",
   "metadata": {},
   "outputs": [
    {
     "data": {
      "text/html": [
       "<div>\n",
       "<style scoped>\n",
       "    .dataframe tbody tr th:only-of-type {\n",
       "        vertical-align: middle;\n",
       "    }\n",
       "\n",
       "    .dataframe tbody tr th {\n",
       "        vertical-align: top;\n",
       "    }\n",
       "\n",
       "    .dataframe thead th {\n",
       "        text-align: right;\n",
       "    }\n",
       "</style>\n",
       "<table border=\"1\" class=\"dataframe\">\n",
       "  <thead>\n",
       "    <tr style=\"text-align: right;\">\n",
       "      <th></th>\n",
       "      <th>gap</th>\n",
       "      <th>count</th>\n",
       "    </tr>\n",
       "  </thead>\n",
       "  <tbody>\n",
       "    <tr>\n",
       "      <th>0</th>\n",
       "      <td>1</td>\n",
       "      <td>30565</td>\n",
       "    </tr>\n",
       "    <tr>\n",
       "      <th>1</th>\n",
       "      <td>2</td>\n",
       "      <td>13594</td>\n",
       "    </tr>\n",
       "    <tr>\n",
       "      <th>2</th>\n",
       "      <td>3</td>\n",
       "      <td>7526</td>\n",
       "    </tr>\n",
       "    <tr>\n",
       "      <th>3</th>\n",
       "      <td>4</td>\n",
       "      <td>5321</td>\n",
       "    </tr>\n",
       "    <tr>\n",
       "      <th>4</th>\n",
       "      <td>5</td>\n",
       "      <td>3663</td>\n",
       "    </tr>\n",
       "    <tr>\n",
       "      <th>...</th>\n",
       "      <td>...</td>\n",
       "      <td>...</td>\n",
       "    </tr>\n",
       "    <tr>\n",
       "      <th>313</th>\n",
       "      <td>860</td>\n",
       "      <td>1</td>\n",
       "    </tr>\n",
       "    <tr>\n",
       "      <th>314</th>\n",
       "      <td>933</td>\n",
       "      <td>1</td>\n",
       "    </tr>\n",
       "    <tr>\n",
       "      <th>315</th>\n",
       "      <td>1155</td>\n",
       "      <td>1</td>\n",
       "    </tr>\n",
       "    <tr>\n",
       "      <th>316</th>\n",
       "      <td>1160</td>\n",
       "      <td>1</td>\n",
       "    </tr>\n",
       "    <tr>\n",
       "      <th>317</th>\n",
       "      <td>1255</td>\n",
       "      <td>1</td>\n",
       "    </tr>\n",
       "  </tbody>\n",
       "</table>\n",
       "<p>318 rows × 2 columns</p>\n",
       "</div>"
      ],
      "text/plain": [
       "      gap  count\n",
       "0       1  30565\n",
       "1       2  13594\n",
       "2       3   7526\n",
       "3       4   5321\n",
       "4       5   3663\n",
       "..    ...    ...\n",
       "313   860      1\n",
       "314   933      1\n",
       "315  1155      1\n",
       "316  1160      1\n",
       "317  1255      1\n",
       "\n",
       "[318 rows x 2 columns]"
      ]
     },
     "execution_count": 1,
     "metadata": {},
     "output_type": "execute_result"
    }
   ],
   "source": [
    "import pandas as pd\n",
    "\n",
    "# Data containing information abut analyzing repeated code based on\n",
    "# 1. repeated cells in session histories\n",
    "# 2. gaps in notebook execution counts\n",
    "history_repeats = pd.read_parquet('history-repeats.parquet')\n",
    "nb_cell_repeats = pd.read_parquet('nb-repeats.parquet')"
   ]
  },
  {
   "cell_type": "code",
   "execution_count": 2,
   "id": "modified-fight",
   "metadata": {},
   "outputs": [],
   "source": [
    "nb50 = nb_cell_repeats[nb_cell_repeats.gap <= 20].copy()\n",
    "nb50['pct'] = nb50['count'] / nb50['count'].sum()"
   ]
  },
  {
   "cell_type": "code",
   "execution_count": 3,
   "id": "dedicated-darwin",
   "metadata": {},
   "outputs": [],
   "source": [
    "hist50 = history_repeats[history_repeats.num_repeats <= 20].copy()\n",
    "hist50['pct'] = hist50['count'] / hist50['count'].sum()"
   ]
  },
  {
   "cell_type": "code",
   "execution_count": 5,
   "id": "private-header",
   "metadata": {},
   "outputs": [
    {
     "data": {
      "image/png": "[encoded data removed]",
      "text/plain": [
       "<Figure size 432x288 with 1 Axes>"
      ]
     },
     "metadata": {
      "needs_background": "light"
     },
     "output_type": "display_data"
    }
   ],
   "source": [
    "from matplotlib.ticker import MaxNLocator\n",
    "ax = nb50.merge(hist50, left_on='gap', right_on='num_repeats')[['gap','pct_x','pct_y']].rename(columns={'pct_x': 'notebook consec. cell gap - 1', 'pct_y': 'session consecutive repeats','gap': 'size'}).plot(kind='bar',x='size',logy=True, ylabel='log(count/total)')\n",
    "ax.xaxis.set_major_locator(MaxNLocator(10))\n",
    "ax.tick_params(axis='x', labelrotation = 0)\n",
    "ax.figure.savefig('session-vs-notebook-repeats.pdf', bbox_inches='tight')"
   ]
  },
  {
   "cell_type": "markdown",
   "id": "8e5eb041-e351-45e9-b840-fe0cf7cd165f",
   "metadata": {},
   "source": [
    "### Repeated Sessions"
   ]
  },
  {
   "cell_type": "code",
   "execution_count": 6,
   "id": "moderate-government",
   "metadata": {},
   "outputs": [
    {
     "data": {
      "text/html": [
       "<div>\n",
       "<style scoped>\n",
       "    .dataframe tbody tr th:only-of-type {\n",
       "        vertical-align: middle;\n",
       "    }\n",
       "\n",
       "    .dataframe tbody tr th {\n",
       "        vertical-align: top;\n",
       "    }\n",
       "\n",
       "    .dataframe thead th {\n",
       "        text-align: right;\n",
       "    }\n",
       "</style>\n",
       "<table border=\"1\" class=\"dataframe\">\n",
       "  <thead>\n",
       "    <tr style=\"text-align: right;\">\n",
       "      <th></th>\n",
       "      <th>sha</th>\n",
       "      <th>session1</th>\n",
       "      <th>session2</th>\n",
       "      <th>lines_matched</th>\n",
       "      <th>lines_checked</th>\n",
       "      <th>session_diff</th>\n",
       "      <th>match_ratio</th>\n",
       "    </tr>\n",
       "  </thead>\n",
       "  <tbody>\n",
       "    <tr>\n",
       "      <th>0</th>\n",
       "      <td>00baa5d85f22d81f1baf3bf453132486cf311e02</td>\n",
       "      <td>7</td>\n",
       "      <td>8</td>\n",
       "      <td>13</td>\n",
       "      <td>15</td>\n",
       "      <td>1</td>\n",
       "      <td>0.866667</td>\n",
       "    </tr>\n",
       "    <tr>\n",
       "      <th>1</th>\n",
       "      <td>00f91a669626007d721226d7aa2bf44534e37bc1</td>\n",
       "      <td>199</td>\n",
       "      <td>200</td>\n",
       "      <td>16</td>\n",
       "      <td>18</td>\n",
       "      <td>1</td>\n",
       "      <td>0.888889</td>\n",
       "    </tr>\n",
       "    <tr>\n",
       "      <th>2</th>\n",
       "      <td>00f91a669626007d721226d7aa2bf44534e37bc1</td>\n",
       "      <td>270</td>\n",
       "      <td>271</td>\n",
       "      <td>16</td>\n",
       "      <td>19</td>\n",
       "      <td>1</td>\n",
       "      <td>0.842105</td>\n",
       "    </tr>\n",
       "    <tr>\n",
       "      <th>3</th>\n",
       "      <td>00f91a669626007d721226d7aa2bf44534e37bc1</td>\n",
       "      <td>425</td>\n",
       "      <td>426</td>\n",
       "      <td>29</td>\n",
       "      <td>29</td>\n",
       "      <td>1</td>\n",
       "      <td>1.000000</td>\n",
       "    </tr>\n",
       "    <tr>\n",
       "      <th>4</th>\n",
       "      <td>00f91a669626007d721226d7aa2bf44534e37bc1</td>\n",
       "      <td>454</td>\n",
       "      <td>479</td>\n",
       "      <td>3</td>\n",
       "      <td>5</td>\n",
       "      <td>25</td>\n",
       "      <td>0.600000</td>\n",
       "    </tr>\n",
       "    <tr>\n",
       "      <th>...</th>\n",
       "      <td>...</td>\n",
       "      <td>...</td>\n",
       "      <td>...</td>\n",
       "      <td>...</td>\n",
       "      <td>...</td>\n",
       "      <td>...</td>\n",
       "      <td>...</td>\n",
       "    </tr>\n",
       "    <tr>\n",
       "      <th>28020</th>\n",
       "      <td>fe1e45755dbf48e5424d54f0a4180043efd84c0c</td>\n",
       "      <td>186</td>\n",
       "      <td>187</td>\n",
       "      <td>8</td>\n",
       "      <td>8</td>\n",
       "      <td>1</td>\n",
       "      <td>1.000000</td>\n",
       "    </tr>\n",
       "    <tr>\n",
       "      <th>28021</th>\n",
       "      <td>fe1e45755dbf48e5424d54f0a4180043efd84c0c</td>\n",
       "      <td>194</td>\n",
       "      <td>195</td>\n",
       "      <td>6</td>\n",
       "      <td>6</td>\n",
       "      <td>1</td>\n",
       "      <td>1.000000</td>\n",
       "    </tr>\n",
       "    <tr>\n",
       "      <th>28022</th>\n",
       "      <td>fe1e45755dbf48e5424d54f0a4180043efd84c0c</td>\n",
       "      <td>199</td>\n",
       "      <td>202</td>\n",
       "      <td>2</td>\n",
       "      <td>2</td>\n",
       "      <td>3</td>\n",
       "      <td>1.000000</td>\n",
       "    </tr>\n",
       "    <tr>\n",
       "      <th>28023</th>\n",
       "      <td>fe1e45755dbf48e5424d54f0a4180043efd84c0c</td>\n",
       "      <td>338</td>\n",
       "      <td>339</td>\n",
       "      <td>7</td>\n",
       "      <td>9</td>\n",
       "      <td>1</td>\n",
       "      <td>0.777778</td>\n",
       "    </tr>\n",
       "    <tr>\n",
       "      <th>28024</th>\n",
       "      <td>fe1e45755dbf48e5424d54f0a4180043efd84c0c</td>\n",
       "      <td>340</td>\n",
       "      <td>349</td>\n",
       "      <td>5</td>\n",
       "      <td>6</td>\n",
       "      <td>9</td>\n",
       "      <td>0.833333</td>\n",
       "    </tr>\n",
       "  </tbody>\n",
       "</table>\n",
       "<p>28025 rows × 7 columns</p>\n",
       "</div>"
      ],
      "text/plain": [
       "                                            sha  session1  session2  \\\n",
       "0      00baa5d85f22d81f1baf3bf453132486cf311e02         7         8   \n",
       "1      00f91a669626007d721226d7aa2bf44534e37bc1       199       200   \n",
       "2      00f91a669626007d721226d7aa2bf44534e37bc1       270       271   \n",
       "3      00f91a669626007d721226d7aa2bf44534e37bc1       425       426   \n",
       "4      00f91a669626007d721226d7aa2bf44534e37bc1       454       479   \n",
       "...                                         ...       ...       ...   \n",
       "28020  fe1e45755dbf48e5424d54f0a4180043efd84c0c       186       187   \n",
       "28021  fe1e45755dbf48e5424d54f0a4180043efd84c0c       194       195   \n",
       "28022  fe1e45755dbf48e5424d54f0a4180043efd84c0c       199       202   \n",
       "28023  fe1e45755dbf48e5424d54f0a4180043efd84c0c       338       339   \n",
       "28024  fe1e45755dbf48e5424d54f0a4180043efd84c0c       340       349   \n",
       "\n",
       "       lines_matched  lines_checked  session_diff  match_ratio  \n",
       "0                 13             15             1     0.866667  \n",
       "1                 16             18             1     0.888889  \n",
       "2                 16             19             1     0.842105  \n",
       "3                 29             29             1     1.000000  \n",
       "4                  3              5            25     0.600000  \n",
       "...              ...            ...           ...          ...  \n",
       "28020              8              8             1     1.000000  \n",
       "28021              6              6             1     1.000000  \n",
       "28022              2              2             3     1.000000  \n",
       "28023              7              9             1     0.777778  \n",
       "28024              5              6             9     0.833333  \n",
       "\n",
       "[28025 rows x 7 columns]"
      ]
     },
     "execution_count": 6,
     "metadata": {},
     "output_type": "execute_result"
    }
   ],
   "source": [
    "smdf = pd.read_parquet('session-matches.parquet')"
   ]
  },
  {
   "cell_type": "code",
   "execution_count": 7,
   "id": "exposed-yahoo",
   "metadata": {},
   "outputs": [
    {
     "data": {
      "text/html": [
       "<div>\n",
       "<style scoped>\n",
       "    .dataframe tbody tr th:only-of-type {\n",
       "        vertical-align: middle;\n",
       "    }\n",
       "\n",
       "    .dataframe tbody tr th {\n",
       "        vertical-align: top;\n",
       "    }\n",
       "\n",
       "    .dataframe thead th {\n",
       "        text-align: right;\n",
       "    }\n",
       "</style>\n",
       "<table border=\"1\" class=\"dataframe\">\n",
       "  <thead>\n",
       "    <tr style=\"text-align: right;\">\n",
       "      <th></th>\n",
       "      <th>sha</th>\n",
       "      <th>session1</th>\n",
       "      <th>session2</th>\n",
       "    </tr>\n",
       "  </thead>\n",
       "  <tbody>\n",
       "    <tr>\n",
       "      <th>0</th>\n",
       "      <td>00baa5d85f22d81f1baf3bf453132486cf311e02</td>\n",
       "      <td>7</td>\n",
       "      <td>8</td>\n",
       "    </tr>\n",
       "    <tr>\n",
       "      <th>1</th>\n",
       "      <td>00f91a669626007d721226d7aa2bf44534e37bc1</td>\n",
       "      <td>199</td>\n",
       "      <td>200</td>\n",
       "    </tr>\n",
       "    <tr>\n",
       "      <th>2</th>\n",
       "      <td>00f91a669626007d721226d7aa2bf44534e37bc1</td>\n",
       "      <td>270</td>\n",
       "      <td>271</td>\n",
       "    </tr>\n",
       "    <tr>\n",
       "      <th>3</th>\n",
       "      <td>00f91a669626007d721226d7aa2bf44534e37bc1</td>\n",
       "      <td>425</td>\n",
       "      <td>426</td>\n",
       "    </tr>\n",
       "    <tr>\n",
       "      <th>4</th>\n",
       "      <td>00f91a669626007d721226d7aa2bf44534e37bc1</td>\n",
       "      <td>454</td>\n",
       "      <td>479</td>\n",
       "    </tr>\n",
       "    <tr>\n",
       "      <th>...</th>\n",
       "      <td>...</td>\n",
       "      <td>...</td>\n",
       "      <td>...</td>\n",
       "    </tr>\n",
       "    <tr>\n",
       "      <th>5158</th>\n",
       "      <td>fe1e45755dbf48e5424d54f0a4180043efd84c0c</td>\n",
       "      <td>186</td>\n",
       "      <td>187</td>\n",
       "    </tr>\n",
       "    <tr>\n",
       "      <th>5159</th>\n",
       "      <td>fe1e45755dbf48e5424d54f0a4180043efd84c0c</td>\n",
       "      <td>194</td>\n",
       "      <td>195</td>\n",
       "    </tr>\n",
       "    <tr>\n",
       "      <th>5160</th>\n",
       "      <td>fe1e45755dbf48e5424d54f0a4180043efd84c0c</td>\n",
       "      <td>199</td>\n",
       "      <td>202</td>\n",
       "    </tr>\n",
       "    <tr>\n",
       "      <th>5161</th>\n",
       "      <td>fe1e45755dbf48e5424d54f0a4180043efd84c0c</td>\n",
       "      <td>338</td>\n",
       "      <td>339</td>\n",
       "    </tr>\n",
       "    <tr>\n",
       "      <th>5162</th>\n",
       "      <td>fe1e45755dbf48e5424d54f0a4180043efd84c0c</td>\n",
       "      <td>340</td>\n",
       "      <td>349</td>\n",
       "    </tr>\n",
       "  </tbody>\n",
       "</table>\n",
       "<p>5163 rows × 3 columns</p>\n",
       "</div>"
      ],
      "text/plain": [
       "                                           sha  session1  session2\n",
       "0     00baa5d85f22d81f1baf3bf453132486cf311e02         7         8\n",
       "1     00f91a669626007d721226d7aa2bf44534e37bc1       199       200\n",
       "2     00f91a669626007d721226d7aa2bf44534e37bc1       270       271\n",
       "3     00f91a669626007d721226d7aa2bf44534e37bc1       425       426\n",
       "4     00f91a669626007d721226d7aa2bf44534e37bc1       454       479\n",
       "...                                        ...       ...       ...\n",
       "5158  fe1e45755dbf48e5424d54f0a4180043efd84c0c       186       187\n",
       "5159  fe1e45755dbf48e5424d54f0a4180043efd84c0c       194       195\n",
       "5160  fe1e45755dbf48e5424d54f0a4180043efd84c0c       199       202\n",
       "5161  fe1e45755dbf48e5424d54f0a4180043efd84c0c       338       339\n",
       "5162  fe1e45755dbf48e5424d54f0a4180043efd84c0c       340       349\n",
       "\n",
       "[5163 rows x 3 columns]"
      ]
     },
     "execution_count": 7,
     "metadata": {},
     "output_type": "execute_result"
    }
   ],
   "source": [
    "first_repeat = smdf.groupby(['sha','session1'])['session2'].min().to_frame().reset_index()"
   ]
  },
  {
   "cell_type": "code",
   "execution_count": 8,
   "id": "abstract-spring",
   "metadata": {},
   "outputs": [],
   "source": [
    "first_repeat['session_diff'] = first_repeat['session2'] - first_repeat['session1']"
   ]
  },
  {
   "cell_type": "code",
   "execution_count": 9,
   "id": "unavailable-mining",
   "metadata": {},
   "outputs": [
    {
     "data": {
      "text/html": [
       "<div>\n",
       "<style scoped>\n",
       "    .dataframe tbody tr th:only-of-type {\n",
       "        vertical-align: middle;\n",
       "    }\n",
       "\n",
       "    .dataframe tbody tr th {\n",
       "        vertical-align: top;\n",
       "    }\n",
       "\n",
       "    .dataframe thead th {\n",
       "        text-align: right;\n",
       "    }\n",
       "</style>\n",
       "<table border=\"1\" class=\"dataframe\">\n",
       "  <thead>\n",
       "    <tr style=\"text-align: right;\">\n",
       "      <th></th>\n",
       "      <th>sha</th>\n",
       "      <th>session1</th>\n",
       "      <th>session2</th>\n",
       "      <th>session_diff</th>\n",
       "    </tr>\n",
       "  </thead>\n",
       "  <tbody>\n",
       "    <tr>\n",
       "      <th>0</th>\n",
       "      <td>00baa5d85f22d81f1baf3bf453132486cf311e02</td>\n",
       "      <td>7</td>\n",
       "      <td>8</td>\n",
       "      <td>1</td>\n",
       "    </tr>\n",
       "    <tr>\n",
       "      <th>1</th>\n",
       "      <td>00f91a669626007d721226d7aa2bf44534e37bc1</td>\n",
       "      <td>199</td>\n",
       "      <td>200</td>\n",
       "      <td>1</td>\n",
       "    </tr>\n",
       "    <tr>\n",
       "      <th>2</th>\n",
       "      <td>00f91a669626007d721226d7aa2bf44534e37bc1</td>\n",
       "      <td>270</td>\n",
       "      <td>271</td>\n",
       "      <td>1</td>\n",
       "    </tr>\n",
       "    <tr>\n",
       "      <th>3</th>\n",
       "      <td>00f91a669626007d721226d7aa2bf44534e37bc1</td>\n",
       "      <td>425</td>\n",
       "      <td>426</td>\n",
       "      <td>1</td>\n",
       "    </tr>\n",
       "    <tr>\n",
       "      <th>4</th>\n",
       "      <td>00f91a669626007d721226d7aa2bf44534e37bc1</td>\n",
       "      <td>454</td>\n",
       "      <td>479</td>\n",
       "      <td>25</td>\n",
       "    </tr>\n",
       "    <tr>\n",
       "      <th>...</th>\n",
       "      <td>...</td>\n",
       "      <td>...</td>\n",
       "      <td>...</td>\n",
       "      <td>...</td>\n",
       "    </tr>\n",
       "    <tr>\n",
       "      <th>5158</th>\n",
       "      <td>fe1e45755dbf48e5424d54f0a4180043efd84c0c</td>\n",
       "      <td>186</td>\n",
       "      <td>187</td>\n",
       "      <td>1</td>\n",
       "    </tr>\n",
       "    <tr>\n",
       "      <th>5159</th>\n",
       "      <td>fe1e45755dbf48e5424d54f0a4180043efd84c0c</td>\n",
       "      <td>194</td>\n",
       "      <td>195</td>\n",
       "      <td>1</td>\n",
       "    </tr>\n",
       "    <tr>\n",
       "      <th>5160</th>\n",
       "      <td>fe1e45755dbf48e5424d54f0a4180043efd84c0c</td>\n",
       "      <td>199</td>\n",
       "      <td>202</td>\n",
       "      <td>3</td>\n",
       "    </tr>\n",
       "    <tr>\n",
       "      <th>5161</th>\n",
       "      <td>fe1e45755dbf48e5424d54f0a4180043efd84c0c</td>\n",
       "      <td>338</td>\n",
       "      <td>339</td>\n",
       "      <td>1</td>\n",
       "    </tr>\n",
       "    <tr>\n",
       "      <th>5162</th>\n",
       "      <td>fe1e45755dbf48e5424d54f0a4180043efd84c0c</td>\n",
       "      <td>340</td>\n",
       "      <td>349</td>\n",
       "      <td>9</td>\n",
       "    </tr>\n",
       "  </tbody>\n",
       "</table>\n",
       "<p>5163 rows × 4 columns</p>\n",
       "</div>"
      ],
      "text/plain": [
       "                                           sha  session1  session2  \\\n",
       "0     00baa5d85f22d81f1baf3bf453132486cf311e02         7         8   \n",
       "1     00f91a669626007d721226d7aa2bf44534e37bc1       199       200   \n",
       "2     00f91a669626007d721226d7aa2bf44534e37bc1       270       271   \n",
       "3     00f91a669626007d721226d7aa2bf44534e37bc1       425       426   \n",
       "4     00f91a669626007d721226d7aa2bf44534e37bc1       454       479   \n",
       "...                                        ...       ...       ...   \n",
       "5158  fe1e45755dbf48e5424d54f0a4180043efd84c0c       186       187   \n",
       "5159  fe1e45755dbf48e5424d54f0a4180043efd84c0c       194       195   \n",
       "5160  fe1e45755dbf48e5424d54f0a4180043efd84c0c       199       202   \n",
       "5161  fe1e45755dbf48e5424d54f0a4180043efd84c0c       338       339   \n",
       "5162  fe1e45755dbf48e5424d54f0a4180043efd84c0c       340       349   \n",
       "\n",
       "      session_diff  \n",
       "0                1  \n",
       "1                1  \n",
       "2                1  \n",
       "3                1  \n",
       "4               25  \n",
       "...            ...  \n",
       "5158             1  \n",
       "5159             1  \n",
       "5160             3  \n",
       "5161             1  \n",
       "5162             9  \n",
       "\n",
       "[5163 rows x 4 columns]"
      ]
     },
     "execution_count": 9,
     "metadata": {},
     "output_type": "execute_result"
    }
   ],
   "source": [
    "first_repeat"
   ]
  },
  {
   "cell_type": "code",
   "execution_count": 10,
   "id": "dried-bread",
   "metadata": {},
   "outputs": [
    {
     "data": {
      "image/png": "[encoded data removed]",
      "text/plain": [
       "<Figure size 432x288 with 1 Axes>"
      ]
     },
     "metadata": {
      "needs_background": "light"
     },
     "output_type": "display_data"
    }
   ],
   "source": [
    "from matplotlib.ticker import MaxNLocator\n",
    "ax = first_repeat['session_diff'].value_counts().sort_index().plot(kind='bar',logy=True,ylabel='count',xlabel='# sessions until repeated')\n",
    "ax.xaxis.set_major_locator(MaxNLocator(10))\n",
    "ax.tick_params(axis='x', labelrotation = 0)\n",
    "ax.figure.savefig('sessions-until-repeat.pdf', bbox_inches='tight')"
   ]
  },
  {
   "cell_type": "code",
   "execution_count": 11,
   "id": "based-deviation",
   "metadata": {},
   "outputs": [
    {
     "data": {
      "image/png": "[encoded data removed]",
      "text/plain": [
       "<Figure size 432x288 with 1 Axes>"
      ]
     },
     "metadata": {
      "needs_background": "light"
     },
     "output_type": "display_data"
    }
   ],
   "source": [
    "from matplotlib.ticker import MaxNLocator\n",
    "ax = smdf.groupby(['sha','session1']).size().value_counts().sort_index().plot(kind='bar',logy=True,ylabel='count',xlabel='# sessions with similar content')\n",
    "ax.xaxis.set_major_locator(MaxNLocator(10))\n",
    "ax.tick_params(axis='x', labelrotation = 0)\n",
    "ax.figure.savefig('/Users/dakoop/Documents/Papers/notebook-archaeology/figures/sessions-repeat-count.pdf', bbox_inches='tight')"
   ]
  },
  {
   "cell_type": "markdown",
   "id": "personal-browser",
   "metadata": {},
   "source": [
    "### Gap-Jump Counts"
   ]
  },
  {
   "cell_type": "code",
   "execution_count": 12,
   "id": "general-bowling",
   "metadata": {},
   "outputs": [
    {
     "data": {
      "text/html": [
       "<div>\n",
       "<style scoped>\n",
       "    .dataframe tbody tr th:only-of-type {\n",
       "        vertical-align: middle;\n",
       "    }\n",
       "\n",
       "    .dataframe tbody tr th {\n",
       "        vertical-align: top;\n",
       "    }\n",
       "\n",
       "    .dataframe thead th {\n",
       "        text-align: right;\n",
       "    }\n",
       "</style>\n",
       "<table border=\"1\" class=\"dataframe\">\n",
       "  <thead>\n",
       "    <tr style=\"text-align: right;\">\n",
       "      <th></th>\n",
       "      <th>gap</th>\n",
       "      <th>jump</th>\n",
       "      <th>count</th>\n",
       "    </tr>\n",
       "  </thead>\n",
       "  <tbody>\n",
       "    <tr>\n",
       "      <th>6200</th>\n",
       "      <td>58</td>\n",
       "      <td>9</td>\n",
       "      <td>1</td>\n",
       "    </tr>\n",
       "    <tr>\n",
       "      <th>2812</th>\n",
       "      <td>565</td>\n",
       "      <td>8</td>\n",
       "      <td>1</td>\n",
       "    </tr>\n",
       "    <tr>\n",
       "      <th>2815</th>\n",
       "      <td>178</td>\n",
       "      <td>6</td>\n",
       "      <td>1</td>\n",
       "    </tr>\n",
       "    <tr>\n",
       "      <th>2818</th>\n",
       "      <td>6</td>\n",
       "      <td>66</td>\n",
       "      <td>1</td>\n",
       "    </tr>\n",
       "    <tr>\n",
       "      <th>4831</th>\n",
       "      <td>209</td>\n",
       "      <td>2</td>\n",
       "      <td>1</td>\n",
       "    </tr>\n",
       "    <tr>\n",
       "      <th>...</th>\n",
       "      <td>...</td>\n",
       "      <td>...</td>\n",
       "      <td>...</td>\n",
       "    </tr>\n",
       "    <tr>\n",
       "      <th>45</th>\n",
       "      <td>1</td>\n",
       "      <td>2</td>\n",
       "      <td>7200</td>\n",
       "    </tr>\n",
       "    <tr>\n",
       "      <th>11</th>\n",
       "      <td>4</td>\n",
       "      <td>1</td>\n",
       "      <td>7526</td>\n",
       "    </tr>\n",
       "    <tr>\n",
       "      <th>14</th>\n",
       "      <td>3</td>\n",
       "      <td>1</td>\n",
       "      <td>13594</td>\n",
       "    </tr>\n",
       "    <tr>\n",
       "      <th>8</th>\n",
       "      <td>2</td>\n",
       "      <td>1</td>\n",
       "      <td>30565</td>\n",
       "    </tr>\n",
       "    <tr>\n",
       "      <th>0</th>\n",
       "      <td>1</td>\n",
       "      <td>1</td>\n",
       "      <td>685456</td>\n",
       "    </tr>\n",
       "  </tbody>\n",
       "</table>\n",
       "<p>6201 rows × 3 columns</p>\n",
       "</div>"
      ],
      "text/plain": [
       "      gap  jump   count\n",
       "6200   58     9       1\n",
       "2812  565     8       1\n",
       "2815  178     6       1\n",
       "2818    6    66       1\n",
       "4831  209     2       1\n",
       "...   ...   ...     ...\n",
       "45      1     2    7200\n",
       "11      4     1    7526\n",
       "14      3     1   13594\n",
       "8       2     1   30565\n",
       "0       1     1  685456\n",
       "\n",
       "[6201 rows x 3 columns]"
      ]
     },
     "execution_count": 12,
     "metadata": {},
     "output_type": "execute_result"
    }
   ],
   "source": [
    "# data containing information about the distribution of gaps and jumps\n",
    "gap_jump_counts = pd.read_parquet('gap-jump-counts.parquet')"
   ]
  },
  {
   "cell_type": "code",
   "execution_count": 13,
   "id": "fourth-mentor",
   "metadata": {},
   "outputs": [
    {
     "data": {
      "text/plain": [
       "0.8299085601277433"
      ]
     },
     "execution_count": 13,
     "metadata": {},
     "output_type": "execute_result"
    }
   ],
   "source": [
    "gap_jump_counts.loc[gap_jump_counts.gap == 1,'count'].sum() / gap_jump_counts['count'].sum()"
   ]
  },
  {
   "cell_type": "code",
   "execution_count": 14,
   "id": "dependent-prayer",
   "metadata": {},
   "outputs": [
    {
     "data": {
      "text/plain": [
       "0.8955866372698716"
      ]
     },
     "execution_count": 14,
     "metadata": {},
     "output_type": "execute_result"
    }
   ],
   "source": [
    "gap_jump_counts.loc[gap_jump_counts.jump == 1,'count'].sum() / gap_jump_counts['count'].sum()"
   ]
  },
  {
   "cell_type": "code",
   "execution_count": 15,
   "id": "printable-equation",
   "metadata": {},
   "outputs": [
    {
     "data": {
      "text/plain": [
       "jump\n",
       "-374         1\n",
       " 103         1\n",
       " 102         1\n",
       " 101         1\n",
       " 98          1\n",
       "         ...  \n",
       "-2        5401\n",
       " 3        8398\n",
       "-1        9367\n",
       " 2       22495\n",
       " 1      768948\n",
       "Name: count, Length: 273, dtype: int64"
      ]
     },
     "execution_count": 15,
     "metadata": {},
     "output_type": "execute_result"
    }
   ],
   "source": [
    "jump_counts = gap_jump_counts.groupby('jump')['count'].sum().sort_values()"
   ]
  },
  {
   "cell_type": "code",
   "execution_count": 16,
   "id": "saving-trinidad",
   "metadata": {},
   "outputs": [
    {
     "data": {
      "text/plain": [
       "0.8955866372698716"
      ]
     },
     "execution_count": 16,
     "metadata": {},
     "output_type": "execute_result"
    }
   ],
   "source": [
    "jump_counts[1] / jump_counts.sum()"
   ]
  },
  {
   "cell_type": "code",
   "execution_count": 17,
   "id": "committed-metropolitan",
   "metadata": {},
   "outputs": [
    {
     "data": {
      "text/plain": [
       "<AxesSubplot:xlabel='jump'>"
      ]
     },
     "execution_count": 17,
     "metadata": {},
     "output_type": "execute_result"
    },
    {
     "data": {
      "image/png": "[encoded data removed]",
      "text/plain": [
       "<Figure size 432x288 with 1 Axes>"
      ]
     },
     "metadata": {
      "needs_background": "light"
     },
     "output_type": "display_data"
    }
   ],
   "source": [
    "jump_counts.sort_index().plot(xlim=(1,100),logy=True)"
   ]
  },
  {
   "cell_type": "code",
   "execution_count": 18,
   "id": "helpful-holder",
   "metadata": {},
   "outputs": [
    {
     "data": {
      "text/plain": [
       "<AxesSubplot:xlabel='jump'>"
      ]
     },
     "execution_count": 18,
     "metadata": {},
     "output_type": "execute_result"
    },
    {
     "data": {
      "image/png": "[encoded data removed]",
      "text/plain": [
       "<Figure size 432x288 with 1 Axes>"
      ]
     },
     "metadata": {
      "needs_background": "light"
     },
     "output_type": "display_data"
    }
   ],
   "source": [
    "jump_counts.sort_index().plot(xlim=(-100,-1),logy=True)"
   ]
  },
  {
   "cell_type": "code",
   "execution_count": null,
   "id": "e75dc8ed-6754-4331-bb7e-4b2ce8638e1f",
   "metadata": {},
   "outputs": [],
   "source": []
  }
 ],
 "metadata": {
  "kernelspec": {
   "display_name": "Python 3",
   "language": "python",
   "name": "python3"
  },
  "language_info": {
   "codemirror_mode": {
    "name": "ipython",
    "version": 3
   },
   "file_extension": ".py",
   "mimetype": "text/x-python",
   "name": "python",
   "nbconvert_exporter": "python",
   "pygments_lexer": "ipython3",
   "version": "3.8.1"
  }
 },
 "nbformat": 4,
 "nbformat_minor": 5
}
